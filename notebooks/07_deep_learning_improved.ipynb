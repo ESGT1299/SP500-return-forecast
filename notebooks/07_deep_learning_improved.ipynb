{
 "cells": [
  {
   "cell_type": "markdown",
   "id": "fd5871e0",
   "metadata": {},
   "source": [
    "# 07_deep_learning_improved.ipynb  \n",
    "## Advanced MLP & LSTM on the Rich Feature Set\n",
    "\n",
    "**Goal:** apply our improved features (lags, volatility, volume) to build a **well-tuned MLP** and **LSTM**, and compare their performance.\n",
    "\n",
    "---\n",
    "\n",
    "### 1. Setup & Imports  "
   ]
  },
  {
   "cell_type": "code",
   "execution_count": 14,
   "id": "083d9c27",
   "metadata": {},
   "outputs": [],
   "source": [
    "import numpy as np\n",
    "import pandas as pd\n",
    "from pathlib           import Path\n",
    "from sklearn.metrics   import mean_absolute_error, r2_score\n",
    "from sklearn.preprocessing import StandardScaler\n",
    "import tensorflow as tf\n",
    "from tensorflow.keras import Sequential, layers\n",
    "from keras_tuner import RandomSearch\n",
    "\n"
   ]
  },
  {
   "cell_type": "markdown",
   "id": "26562a3a",
   "metadata": {},
   "source": [
    "### 2. Load Improved Features  "
   ]
  },
  {
   "cell_type": "code",
   "execution_count": 15,
   "id": "bf685932",
   "metadata": {},
   "outputs": [
    {
     "data": {
      "text/html": [
       "<div>\n",
       "<style scoped>\n",
       "    .dataframe tbody tr th:only-of-type {\n",
       "        vertical-align: middle;\n",
       "    }\n",
       "\n",
       "    .dataframe tbody tr th {\n",
       "        vertical-align: top;\n",
       "    }\n",
       "\n",
       "    .dataframe thead th {\n",
       "        text-align: right;\n",
       "    }\n",
       "</style>\n",
       "<table border=\"1\" class=\"dataframe\">\n",
       "  <thead>\n",
       "    <tr style=\"text-align: right;\">\n",
       "      <th></th>\n",
       "      <th>Open</th>\n",
       "      <th>High</th>\n",
       "      <th>Low</th>\n",
       "      <th>Close</th>\n",
       "      <th>Volume</th>\n",
       "      <th>return</th>\n",
       "      <th>rsi</th>\n",
       "      <th>macd</th>\n",
       "      <th>ret_lag_1</th>\n",
       "      <th>ret_lag_2</th>\n",
       "      <th>ret_lag_3</th>\n",
       "      <th>ret_lag_4</th>\n",
       "      <th>ret_lag_5</th>\n",
       "      <th>vol_10</th>\n",
       "      <th>vol_pct</th>\n",
       "    </tr>\n",
       "    <tr>\n",
       "      <th>Date</th>\n",
       "      <th></th>\n",
       "      <th></th>\n",
       "      <th></th>\n",
       "      <th></th>\n",
       "      <th></th>\n",
       "      <th></th>\n",
       "      <th></th>\n",
       "      <th></th>\n",
       "      <th></th>\n",
       "      <th></th>\n",
       "      <th></th>\n",
       "      <th></th>\n",
       "      <th></th>\n",
       "      <th></th>\n",
       "      <th></th>\n",
       "    </tr>\n",
       "  </thead>\n",
       "  <tbody>\n",
       "    <tr>\n",
       "      <th>2020-07-24</th>\n",
       "      <td>3218.58</td>\n",
       "      <td>3227.26</td>\n",
       "      <td>3200.05</td>\n",
       "      <td>3215.63</td>\n",
       "      <td>2.460505e+09</td>\n",
       "      <td>-0.006210</td>\n",
       "      <td>56.181238</td>\n",
       "      <td>3.240325</td>\n",
       "      <td>-0.012396</td>\n",
       "      <td>0.005731</td>\n",
       "      <td>0.001678</td>\n",
       "      <td>0.008372</td>\n",
       "      <td>0.002845</td>\n",
       "      <td>0.008538</td>\n",
       "      <td>-0.102679</td>\n",
       "    </tr>\n",
       "    <tr>\n",
       "      <th>2020-07-27</th>\n",
       "      <td>3219.84</td>\n",
       "      <td>3241.43</td>\n",
       "      <td>3214.25</td>\n",
       "      <td>3239.41</td>\n",
       "      <td>2.355871e+09</td>\n",
       "      <td>0.007368</td>\n",
       "      <td>58.949535</td>\n",
       "      <td>1.761863</td>\n",
       "      <td>-0.006210</td>\n",
       "      <td>-0.012396</td>\n",
       "      <td>0.005731</td>\n",
       "      <td>0.001678</td>\n",
       "      <td>0.008372</td>\n",
       "      <td>0.007900</td>\n",
       "      <td>-0.042525</td>\n",
       "    </tr>\n",
       "    <tr>\n",
       "      <th>2020-07-28</th>\n",
       "      <td>3234.27</td>\n",
       "      <td>3243.72</td>\n",
       "      <td>3216.17</td>\n",
       "      <td>3218.44</td>\n",
       "      <td>2.244363e+09</td>\n",
       "      <td>-0.006494</td>\n",
       "      <td>55.612967</td>\n",
       "      <td>-0.938636</td>\n",
       "      <td>0.007368</td>\n",
       "      <td>-0.006210</td>\n",
       "      <td>-0.012396</td>\n",
       "      <td>0.005731</td>\n",
       "      <td>0.001678</td>\n",
       "      <td>0.007391</td>\n",
       "      <td>-0.047332</td>\n",
       "    </tr>\n",
       "    <tr>\n",
       "      <th>2020-07-29</th>\n",
       "      <td>3227.22</td>\n",
       "      <td>3264.74</td>\n",
       "      <td>3227.22</td>\n",
       "      <td>3258.44</td>\n",
       "      <td>2.471114e+09</td>\n",
       "      <td>0.012352</td>\n",
       "      <td>60.236275</td>\n",
       "      <td>-0.370417</td>\n",
       "      <td>-0.006494</td>\n",
       "      <td>0.007368</td>\n",
       "      <td>-0.006210</td>\n",
       "      <td>-0.012396</td>\n",
       "      <td>0.005731</td>\n",
       "      <td>0.007867</td>\n",
       "      <td>0.101031</td>\n",
       "    </tr>\n",
       "    <tr>\n",
       "      <th>2020-07-30</th>\n",
       "      <td>3231.76</td>\n",
       "      <td>3250.92</td>\n",
       "      <td>3204.13</td>\n",
       "      <td>3246.22</td>\n",
       "      <td>2.436861e+09</td>\n",
       "      <td>-0.003757</td>\n",
       "      <td>58.240473</td>\n",
       "      <td>-1.114930</td>\n",
       "      <td>0.012352</td>\n",
       "      <td>-0.006494</td>\n",
       "      <td>0.007368</td>\n",
       "      <td>-0.006210</td>\n",
       "      <td>-0.012396</td>\n",
       "      <td>0.007890</td>\n",
       "      <td>-0.013861</td>\n",
       "    </tr>\n",
       "  </tbody>\n",
       "</table>\n",
       "</div>"
      ],
      "text/plain": [
       "               Open     High      Low    Close        Volume    return  \\\n",
       "Date                                                                     \n",
       "2020-07-24  3218.58  3227.26  3200.05  3215.63  2.460505e+09 -0.006210   \n",
       "2020-07-27  3219.84  3241.43  3214.25  3239.41  2.355871e+09  0.007368   \n",
       "2020-07-28  3234.27  3243.72  3216.17  3218.44  2.244363e+09 -0.006494   \n",
       "2020-07-29  3227.22  3264.74  3227.22  3258.44  2.471114e+09  0.012352   \n",
       "2020-07-30  3231.76  3250.92  3204.13  3246.22  2.436861e+09 -0.003757   \n",
       "\n",
       "                  rsi      macd  ret_lag_1  ret_lag_2  ret_lag_3  ret_lag_4  \\\n",
       "Date                                                                          \n",
       "2020-07-24  56.181238  3.240325  -0.012396   0.005731   0.001678   0.008372   \n",
       "2020-07-27  58.949535  1.761863  -0.006210  -0.012396   0.005731   0.001678   \n",
       "2020-07-28  55.612967 -0.938636   0.007368  -0.006210  -0.012396   0.005731   \n",
       "2020-07-29  60.236275 -0.370417  -0.006494   0.007368  -0.006210  -0.012396   \n",
       "2020-07-30  58.240473 -1.114930   0.012352  -0.006494   0.007368  -0.006210   \n",
       "\n",
       "            ret_lag_5    vol_10   vol_pct  \n",
       "Date                                       \n",
       "2020-07-24   0.002845  0.008538 -0.102679  \n",
       "2020-07-27   0.008372  0.007900 -0.042525  \n",
       "2020-07-28   0.001678  0.007391 -0.047332  \n",
       "2020-07-29   0.005731  0.007867  0.101031  \n",
       "2020-07-30  -0.012396  0.007890 -0.013861  "
      ]
     },
     "execution_count": 15,
     "metadata": {},
     "output_type": "execute_result"
    }
   ],
   "source": [
    "nb_dir = Path().resolve()             \n",
    "root   = nb_dir.parent  \n",
    "basic_csv    = root/\"data\"/\"processed\"/\"features.csv\"\n",
    "\n",
    "# Create models folder if not exists\n",
    "models_dir= root/\"models\"\n",
    "models_dir.mkdir(exist_ok=True)\n",
    "\n",
    "kt_dir = root/\"notebooks\"/\"keras_tuner\"\n",
    "kt_dir.mkdir(exist_ok=True)\n",
    "\n",
    "df = pd.read_csv(basic_csv, index_col=\"Date\", parse_dates=True)\n",
    "\n",
    "# Lagged returns 1–5\n",
    "for lag in range(1,6):\n",
    "    df[f\"ret_lag_{lag}\"] = df[\"return\"].shift(lag)\n",
    "\n",
    "# 10-day rolling volatility\n",
    "df[\"vol_10\"] = df[\"return\"].rolling(10).std()\n",
    "\n",
    "# Volume % change (from raw CSV)\n",
    "raw_csv = root/\"data\"/\"raw\"/\"sp500.csv\"\n",
    "vol = pd.read_csv(raw_csv, index_col=\"Date\", parse_dates=True)[\"Volume\"]\n",
    "df[\"vol_pct\"] = vol.pct_change()\n",
    "\n",
    "# Drop NaNs\n",
    "df = df.dropna()\n",
    "df.head()"
   ]
  },
  {
   "cell_type": "markdown",
   "id": "198704c3",
   "metadata": {},
   "source": [
    "## 3. Train/Test Split  \n",
    "80% train / 20% test, **chronologically**.\n"
   ]
  },
  {
   "cell_type": "code",
   "execution_count": 28,
   "id": "b98609c2",
   "metadata": {},
   "outputs": [
    {
     "name": "stdout",
     "output_type": "stream",
     "text": [
      "Shapes: (969, 9) (243, 9)\n"
     ]
    }
   ],
   "source": [
    "feature_cols = [\n",
    "    \"rsi\", \"macd\",\n",
    "    \"ret_lag_1\",\"ret_lag_2\",\"ret_lag_3\",\"ret_lag_4\",\"ret_lag_5\",\n",
    "    \"vol_10\", \"vol_pct\"\n",
    "]\n",
    "\n",
    "# X = df.drop(columns=[\"return\",\"Open\",\"High\",\"Low\",\"Close\",\"Volume\"])\n",
    "X = df[feature_cols].to_numpy()\n",
    "# y = df[\"return\"].values\n",
    "y = df[\"return\"].to_numpy()\n",
    "# split = int(len(X)*0.8)\n",
    "# X_tr, X_te = X.iloc[:split].values, X.iloc[split:].values\n",
    "# y_tr, y_te = y[:split], y[split:]\n",
    "\n",
    "# X_num and y_num defined earlier as NumPy arrays\n",
    "split = int(len(X) * 0.8)\n",
    "\n",
    "# NumPy slicing (no .iloc)\n",
    "X_tr, X_te = X[:split], X[split:]\n",
    "y_tr, y_te = y[:split], y[split:]\n",
    "print(\"Shapes:\", X_tr.shape, X_te.shape)\n"
   ]
  },
  {
   "cell_type": "markdown",
   "id": "04295f7c",
   "metadata": {},
   "source": [
    "## 4. Scale for Neural Nets  \n",
    "We scale now so both MLP & LSTM get standardized inputs.\n"
   ]
  },
  {
   "cell_type": "code",
   "execution_count": 17,
   "id": "a4c12515",
   "metadata": {},
   "outputs": [
    {
     "data": {
      "text/plain": [
       "['C:\\\\Users\\\\Antho\\\\OneDrive\\\\Documentos\\\\Santiago\\\\Finance project\\\\sp500_dl\\\\models\\\\scaler.pkl']"
      ]
     },
     "execution_count": 17,
     "metadata": {},
     "output_type": "execute_result"
    }
   ],
   "source": [
    "scaler     = StandardScaler().fit(X_tr)\n",
    "X_tr_s, X_te_s = scaler.transform(X_tr), scaler.transform(X_te)\n",
    "\n",
    "# Save scaler for later deployment\n",
    "import joblib\n",
    "joblib.dump(scaler, models_dir/\"scaler.pkl\")"
   ]
  },
  {
   "cell_type": "markdown",
   "id": "84bb5788",
   "metadata": {},
   "source": [
    "## 5. Hyper-tune MLP with RandomSearch"
   ]
  },
  {
   "cell_type": "code",
   "execution_count": 18,
   "id": "89c7c4ea",
   "metadata": {},
   "outputs": [
    {
     "name": "stdout",
     "output_type": "stream",
     "text": [
      "Trial 10 Complete [00h 00m 11s]\n",
      "val_mae: 0.009557699784636497\n",
      "\n",
      "Best val_mae So Far: 0.006955979857593775\n",
      "Total elapsed time: 00h 03m 56s\n",
      "Best MLP summary:\n"
     ]
    },
    {
     "name": "stderr",
     "output_type": "stream",
     "text": [
      "c:\\Users\\Antho\\.conda\\envs\\sp500_dl\\lib\\site-packages\\keras\\src\\saving\\saving_lib.py:802: UserWarning: Skipping variable loading for optimizer 'adam', because it has 2 variables whereas the saved optimizer has 14 variables. \n",
      "  saveable.load_own_variables(weights_store.get(inner_path))\n"
     ]
    },
    {
     "data": {
      "text/html": [
       "<pre style=\"white-space:pre;overflow-x:auto;line-height:normal;font-family:Menlo,'DejaVu Sans Mono',consolas,'Courier New',monospace\"><span style=\"font-weight: bold\">Model: \"sequential\"</span>\n",
       "</pre>\n"
      ],
      "text/plain": [
       "\u001b[1mModel: \"sequential\"\u001b[0m\n"
      ]
     },
     "metadata": {},
     "output_type": "display_data"
    },
    {
     "data": {
      "text/html": [
       "<pre style=\"white-space:pre;overflow-x:auto;line-height:normal;font-family:Menlo,'DejaVu Sans Mono',consolas,'Courier New',monospace\">┏━━━━━━━━━━━━━━━━━━━━━━━━━━━━━━━━━┳━━━━━━━━━━━━━━━━━━━━━━━━┳━━━━━━━━━━━━━━━┓\n",
       "┃<span style=\"font-weight: bold\"> Layer (type)                    </span>┃<span style=\"font-weight: bold\"> Output Shape           </span>┃<span style=\"font-weight: bold\">       Param # </span>┃\n",
       "┡━━━━━━━━━━━━━━━━━━━━━━━━━━━━━━━━━╇━━━━━━━━━━━━━━━━━━━━━━━━╇━━━━━━━━━━━━━━━┩\n",
       "│ dense (<span style=\"color: #0087ff; text-decoration-color: #0087ff\">Dense</span>)                   │ (<span style=\"color: #00d7ff; text-decoration-color: #00d7ff\">None</span>, <span style=\"color: #00af00; text-decoration-color: #00af00\">96</span>)             │           <span style=\"color: #00af00; text-decoration-color: #00af00\">960</span> │\n",
       "├─────────────────────────────────┼────────────────────────┼───────────────┤\n",
       "│ dropout (<span style=\"color: #0087ff; text-decoration-color: #0087ff\">Dropout</span>)               │ (<span style=\"color: #00d7ff; text-decoration-color: #00d7ff\">None</span>, <span style=\"color: #00af00; text-decoration-color: #00af00\">96</span>)             │             <span style=\"color: #00af00; text-decoration-color: #00af00\">0</span> │\n",
       "├─────────────────────────────────┼────────────────────────┼───────────────┤\n",
       "│ dense_1 (<span style=\"color: #0087ff; text-decoration-color: #0087ff\">Dense</span>)                 │ (<span style=\"color: #00d7ff; text-decoration-color: #00d7ff\">None</span>, <span style=\"color: #00af00; text-decoration-color: #00af00\">160</span>)            │        <span style=\"color: #00af00; text-decoration-color: #00af00\">15,520</span> │\n",
       "├─────────────────────────────────┼────────────────────────┼───────────────┤\n",
       "│ dropout_1 (<span style=\"color: #0087ff; text-decoration-color: #0087ff\">Dropout</span>)             │ (<span style=\"color: #00d7ff; text-decoration-color: #00d7ff\">None</span>, <span style=\"color: #00af00; text-decoration-color: #00af00\">160</span>)            │             <span style=\"color: #00af00; text-decoration-color: #00af00\">0</span> │\n",
       "├─────────────────────────────────┼────────────────────────┼───────────────┤\n",
       "│ dense_2 (<span style=\"color: #0087ff; text-decoration-color: #0087ff\">Dense</span>)                 │ (<span style=\"color: #00d7ff; text-decoration-color: #00d7ff\">None</span>, <span style=\"color: #00af00; text-decoration-color: #00af00\">1</span>)              │           <span style=\"color: #00af00; text-decoration-color: #00af00\">161</span> │\n",
       "└─────────────────────────────────┴────────────────────────┴───────────────┘\n",
       "</pre>\n"
      ],
      "text/plain": [
       "┏━━━━━━━━━━━━━━━━━━━━━━━━━━━━━━━━━┳━━━━━━━━━━━━━━━━━━━━━━━━┳━━━━━━━━━━━━━━━┓\n",
       "┃\u001b[1m \u001b[0m\u001b[1mLayer (type)                   \u001b[0m\u001b[1m \u001b[0m┃\u001b[1m \u001b[0m\u001b[1mOutput Shape          \u001b[0m\u001b[1m \u001b[0m┃\u001b[1m \u001b[0m\u001b[1m      Param #\u001b[0m\u001b[1m \u001b[0m┃\n",
       "┡━━━━━━━━━━━━━━━━━━━━━━━━━━━━━━━━━╇━━━━━━━━━━━━━━━━━━━━━━━━╇━━━━━━━━━━━━━━━┩\n",
       "│ dense (\u001b[38;5;33mDense\u001b[0m)                   │ (\u001b[38;5;45mNone\u001b[0m, \u001b[38;5;34m96\u001b[0m)             │           \u001b[38;5;34m960\u001b[0m │\n",
       "├─────────────────────────────────┼────────────────────────┼───────────────┤\n",
       "│ dropout (\u001b[38;5;33mDropout\u001b[0m)               │ (\u001b[38;5;45mNone\u001b[0m, \u001b[38;5;34m96\u001b[0m)             │             \u001b[38;5;34m0\u001b[0m │\n",
       "├─────────────────────────────────┼────────────────────────┼───────────────┤\n",
       "│ dense_1 (\u001b[38;5;33mDense\u001b[0m)                 │ (\u001b[38;5;45mNone\u001b[0m, \u001b[38;5;34m160\u001b[0m)            │        \u001b[38;5;34m15,520\u001b[0m │\n",
       "├─────────────────────────────────┼────────────────────────┼───────────────┤\n",
       "│ dropout_1 (\u001b[38;5;33mDropout\u001b[0m)             │ (\u001b[38;5;45mNone\u001b[0m, \u001b[38;5;34m160\u001b[0m)            │             \u001b[38;5;34m0\u001b[0m │\n",
       "├─────────────────────────────────┼────────────────────────┼───────────────┤\n",
       "│ dense_2 (\u001b[38;5;33mDense\u001b[0m)                 │ (\u001b[38;5;45mNone\u001b[0m, \u001b[38;5;34m1\u001b[0m)              │           \u001b[38;5;34m161\u001b[0m │\n",
       "└─────────────────────────────────┴────────────────────────┴───────────────┘\n"
      ]
     },
     "metadata": {},
     "output_type": "display_data"
    },
    {
     "data": {
      "text/html": [
       "<pre style=\"white-space:pre;overflow-x:auto;line-height:normal;font-family:Menlo,'DejaVu Sans Mono',consolas,'Courier New',monospace\"><span style=\"font-weight: bold\"> Total params: </span><span style=\"color: #00af00; text-decoration-color: #00af00\">16,641</span> (65.00 KB)\n",
       "</pre>\n"
      ],
      "text/plain": [
       "\u001b[1m Total params: \u001b[0m\u001b[38;5;34m16,641\u001b[0m (65.00 KB)\n"
      ]
     },
     "metadata": {},
     "output_type": "display_data"
    },
    {
     "data": {
      "text/html": [
       "<pre style=\"white-space:pre;overflow-x:auto;line-height:normal;font-family:Menlo,'DejaVu Sans Mono',consolas,'Courier New',monospace\"><span style=\"font-weight: bold\"> Trainable params: </span><span style=\"color: #00af00; text-decoration-color: #00af00\">16,641</span> (65.00 KB)\n",
       "</pre>\n"
      ],
      "text/plain": [
       "\u001b[1m Trainable params: \u001b[0m\u001b[38;5;34m16,641\u001b[0m (65.00 KB)\n"
      ]
     },
     "metadata": {},
     "output_type": "display_data"
    },
    {
     "data": {
      "text/html": [
       "<pre style=\"white-space:pre;overflow-x:auto;line-height:normal;font-family:Menlo,'DejaVu Sans Mono',consolas,'Courier New',monospace\"><span style=\"font-weight: bold\"> Non-trainable params: </span><span style=\"color: #00af00; text-decoration-color: #00af00\">0</span> (0.00 B)\n",
       "</pre>\n"
      ],
      "text/plain": [
       "\u001b[1m Non-trainable params: \u001b[0m\u001b[38;5;34m0\u001b[0m (0.00 B)\n"
      ]
     },
     "metadata": {},
     "output_type": "display_data"
    }
   ],
   "source": [
    "def build_mlp(hp):\n",
    "    m = Sequential()\n",
    "    for i in range(hp.Int(\"layers\", 1, 3)):\n",
    "        units = hp.Int(f\"units_{i}\", 32, 256, step=32)\n",
    "        m.add(layers.Dense(units, activation=\"relu\"))\n",
    "        m.add(layers.Dropout(hp.Float(f\"dropout_{i}\", 0.0, 0.5, step=0.1)))\n",
    "    m.add(layers.Dense(1))\n",
    "    m.compile(\n",
    "      optimizer=tf.keras.optimizers.Adam(\n",
    "        learning_rate=hp.Float(\"lr\", 1e-4, 1e-2, sampling=\"log\")\n",
    "      ),\n",
    "      loss=\"mse\",\n",
    "      metrics=[\"mae\"]\n",
    "    )\n",
    "    return m\n",
    "\n",
    "# Set up the tuner\n",
    "tuner = RandomSearch(\n",
    "    build_mlp,\n",
    "    objective=\"val_mae\",\n",
    "    max_trials=10,\n",
    "    executions_per_trial=1,\n",
    "    directory=str(kt_dir),       # point to the real folder\n",
    "    project_name=\"mlp_improved\",\n",
    "    overwrite=True               # start fresh each run\n",
    ")\n",
    "\n",
    "# Run the search\n",
    "tuner.search(\n",
    "    X_tr_s, y_tr,\n",
    "    validation_data=(X_te_s, y_te),\n",
    "    epochs=30,\n",
    "    callbacks=[tf.keras.callbacks.EarlyStopping(patience=5)]\n",
    ")\n",
    "\n",
    "# Grab the best model\n",
    "best_mlp = tuner.get_best_models(1)[0]\n",
    "\n",
    "# Build it explicitly so summary() works\n",
    "best_mlp.build(input_shape=(None, X_tr_s.shape[1]))\n",
    "\n",
    "print(\"Best MLP summary:\")\n",
    "best_mlp.summary()\n"
   ]
  },
  {
   "cell_type": "markdown",
   "id": "4c66519b",
   "metadata": {},
   "source": [
    "## 6. Evaluate the Tuned MLP  \n"
   ]
  },
  {
   "cell_type": "code",
   "execution_count": 42,
   "id": "08c0a95d",
   "metadata": {},
   "outputs": [
    {
     "name": "stdout",
     "output_type": "stream",
     "text": [
      "\u001b[1m8/8\u001b[0m \u001b[32m━━━━━━━━━━━━━━━━━━━━\u001b[0m\u001b[37m\u001b[0m \u001b[1m0s\u001b[0m 5ms/step \n"
     ]
    },
    {
     "name": "stderr",
     "output_type": "stream",
     "text": [
      "WARNING:absl:The `save_format` argument is deprecated in Keras 3. We recommend removing this argument as it can be inferred from the file path. Received: save_format=h5\n",
      "WARNING:absl:You are saving your model as an HDF5 file via `model.save()` or `keras.saving.save_model(model)`. This file format is considered legacy. We recommend using instead the native Keras format, e.g. `model.save('my_model.keras')` or `keras.saving.save_model(model, 'my_model.keras')`. \n"
     ]
    },
    {
     "name": "stdout",
     "output_type": "stream",
     "text": [
      "MLP improved → MAE: 0.00696,  R²: 0.249\n"
     ]
    }
   ],
   "source": [
    "y_pred_mlp = best_mlp.predict(X_te_s).flatten()\n",
    "mae_mlp   = mean_absolute_error(y_te, y_pred_mlp)\n",
    "r2_mlp     = r2_score(y_te, y_pred_mlp)\n",
    "print(f\"MLP improved → MAE: {mae_mlp:.5f},  R²: {r2_mlp:.3f}\")\n",
    "\n",
    "# Save MLP as HDF5\n",
    "best_mlp.save(models_dir/\"mlp_improved_model.h5\", save_format=\"h5\")"
   ]
  },
  {
   "cell_type": "markdown",
   "id": "b4166dff",
   "metadata": {},
   "source": [
    "## 7. Build & Train a Stacked LSTM  \n",
    "We use a **10-day window** and two LSTM layers.\n"
   ]
  },
  {
   "cell_type": "code",
   "execution_count": null,
   "id": "30a5b6df",
   "metadata": {},
   "outputs": [
    {
     "name": "stdout",
     "output_type": "stream",
     "text": [
      "Train seq: (959, 10, 9) (959,)\n",
      "Test  seq: (233, 10, 9) (233,)\n",
      "Epoch 1/50\n",
      "\u001b[1m30/30\u001b[0m \u001b[32m━━━━━━━━━━━━━━━━━━━━\u001b[0m\u001b[37m\u001b[0m \u001b[1m5s\u001b[0m 32ms/step - loss: 9.8705e-04 - mae: 0.0210 - val_loss: 1.7591e-04 - val_mae: 0.0098\n",
      "Epoch 2/50\n",
      "\u001b[1m30/30\u001b[0m \u001b[32m━━━━━━━━━━━━━━━━━━━━\u001b[0m\u001b[37m\u001b[0m \u001b[1m1s\u001b[0m 16ms/step - loss: 1.8127e-04 - mae: 0.0101 - val_loss: 1.7785e-04 - val_mae: 0.0095\n",
      "Epoch 3/50\n",
      "\u001b[1m30/30\u001b[0m \u001b[32m━━━━━━━━━━━━━━━━━━━━\u001b[0m\u001b[37m\u001b[0m \u001b[1m0s\u001b[0m 14ms/step - loss: 1.3132e-04 - mae: 0.0086 - val_loss: 2.2693e-04 - val_mae: 0.0107\n",
      "Epoch 4/50\n",
      "\u001b[1m30/30\u001b[0m \u001b[32m━━━━━━━━━━━━━━━━━━━━\u001b[0m\u001b[37m\u001b[0m \u001b[1m0s\u001b[0m 14ms/step - loss: 1.2456e-04 - mae: 0.0083 - val_loss: 2.0392e-04 - val_mae: 0.0102\n",
      "Epoch 5/50\n",
      "\u001b[1m30/30\u001b[0m \u001b[32m━━━━━━━━━━━━━━━━━━━━\u001b[0m\u001b[37m\u001b[0m \u001b[1m0s\u001b[0m 15ms/step - loss: 1.3442e-04 - mae: 0.0086 - val_loss: 2.1719e-04 - val_mae: 0.0107\n",
      "Epoch 6/50\n",
      "\u001b[1m30/30\u001b[0m \u001b[32m━━━━━━━━━━━━━━━━━━━━\u001b[0m\u001b[37m\u001b[0m \u001b[1m0s\u001b[0m 12ms/step - loss: 1.3165e-04 - mae: 0.0087 - val_loss: 1.9399e-04 - val_mae: 0.0096\n",
      "Epoch 7/50\n",
      "\u001b[1m30/30\u001b[0m \u001b[32m━━━━━━━━━━━━━━━━━━━━\u001b[0m\u001b[37m\u001b[0m \u001b[1m0s\u001b[0m 13ms/step - loss: 1.3032e-04 - mae: 0.0084 - val_loss: 1.8883e-04 - val_mae: 0.0100\n",
      "Epoch 8/50\n",
      "\u001b[1m30/30\u001b[0m \u001b[32m━━━━━━━━━━━━━━━━━━━━\u001b[0m\u001b[37m\u001b[0m \u001b[1m0s\u001b[0m 11ms/step - loss: 1.0891e-04 - mae: 0.0079 - val_loss: 1.9863e-04 - val_mae: 0.0097\n",
      "\u001b[1m8/8\u001b[0m \u001b[32m━━━━━━━━━━━━━━━━━━━━\u001b[0m\u001b[37m\u001b[0m \u001b[1m1s\u001b[0m 56ms/step\n"
     ]
    },
    {
     "name": "stderr",
     "output_type": "stream",
     "text": [
      "WARNING:absl:The `save_format` argument is deprecated in Keras 3. We recommend removing this argument as it can be inferred from the file path. Received: save_format=h5\n",
      "WARNING:absl:You are saving your model as an HDF5 file via `model.save()` or `keras.saving.save_model(model)`. This file format is considered legacy. We recommend using instead the native Keras format, e.g. `model.save('my_model.keras')` or `keras.saving.save_model(model, 'my_model.keras')`. \n"
     ]
    },
    {
     "name": "stdout",
     "output_type": "stream",
     "text": [
      "LSTM stacked → MAE: 0.00970,  R²: -0.239\n"
     ]
    }
   ],
   "source": [
    "# 1) Sequence prep on the SCALED numeric arrays\n",
    "t = 10\n",
    "def make_seq(X, y, t):\n",
    "    xs, ys = [], []\n",
    "    for i in range(len(X) - t):\n",
    "        xs.append(X[i : i + t])\n",
    "        ys.append(y[i + t])\n",
    "    return np.array(xs), np.array(ys)\n",
    "\n",
    "X_seq, y_seq       = make_seq(X_tr_s, y_tr, t)   # train sequences\n",
    "X_te_seq, y_te_seq = make_seq(X_te_s, y_te, t)   # test sequences\n",
    "\n",
    "print(\"Train seq:\", X_seq.shape, y_seq.shape)\n",
    "print(\"Test  seq:\", X_te_seq.shape, y_te_seq.shape)\n",
    "\n",
    "# 2) Build the LSTM model\n",
    "from tensorflow.keras import Sequential, layers\n",
    "\n",
    "lstm = Sequential([\n",
    "    layers.Input(shape=(t, X_tr_s.shape[1])),\n",
    "    layers.LSTM(64, return_sequences=True),\n",
    "    layers.LSTM(32),\n",
    "    layers.Dense(16, activation=\"relu\"),\n",
    "    layers.Dense(1)\n",
    "])\n",
    "lstm.compile(optimizer=\"adam\", loss=\"mse\", metrics=[\"mae\"])\n",
    "\n",
    "# 3) Train\n",
    "hist = lstm.fit(\n",
    "    X_seq, y_seq,\n",
    "    validation_data=(X_te_seq, y_te_seq),\n",
    "    epochs=50,\n",
    "    callbacks=[tf.keras.callbacks.EarlyStopping(patience=7)]\n",
    ")\n",
    "\n",
    "# 4) Evaluate & save\n",
    "from sklearn.metrics import mean_absolute_error, r2_score\n",
    "\n",
    "y_pred_lstm = lstm.predict(X_te_seq).flatten()\n",
    "mae_lstm    = mean_absolute_error(y_te_seq, y_pred_lstm)\n",
    "r2_lstm     = r2_score(y_te_seq, y_pred_lstm)\n",
    "print(f\"LSTM stacked → MAE: {mae_lstm:.5f},  R²: {r2_lstm:.3f}\")\n",
    "\n",
    "# Save as HDF5 for deployment\n",
    "lstm.save(models_dir/\"lstm_improved_model.h5\", save_format=\"h5\")\n"
   ]
  },
  {
   "cell_type": "markdown",
   "id": "10a145ea",
   "metadata": {},
   "source": [
    "## 8. Evaluate the Stacked LSTM  \n"
   ]
  },
  {
   "cell_type": "code",
   "execution_count": 39,
   "id": "5396231c",
   "metadata": {},
   "outputs": [
    {
     "name": "stdout",
     "output_type": "stream",
     "text": [
      "\u001b[1m8/8\u001b[0m \u001b[32m━━━━━━━━━━━━━━━━━━━━\u001b[0m\u001b[37m\u001b[0m \u001b[1m0s\u001b[0m 7ms/step \n"
     ]
    },
    {
     "name": "stderr",
     "output_type": "stream",
     "text": [
      "WARNING:absl:The `save_format` argument is deprecated in Keras 3. We recommend removing this argument as it can be inferred from the file path. Received: save_format=h5\n",
      "WARNING:absl:You are saving your model as an HDF5 file via `model.save()` or `keras.saving.save_model(model)`. This file format is considered legacy. We recommend using instead the native Keras format, e.g. `model.save('my_model.keras')` or `keras.saving.save_model(model, 'my_model.keras')`. \n"
     ]
    },
    {
     "name": "stdout",
     "output_type": "stream",
     "text": [
      "LSTM improved → MAE: 0.02823,  R²: -7.113\n"
     ]
    }
   ],
   "source": [
    "y_pred_lstm = lstm.predict(X_te2).flatten()\n",
    "mae_lstm    = mean_absolute_error(y_te2, y_pred_lstm)\n",
    "r2_lstm     = r2_score(y_te2, y_pred_lstm)\n",
    "print(f\"LSTM improved → MAE: {mae_lstm:.5f},  R²: {r2_lstm:.3f}\")\n",
    "\n",
    "# Save LSTM as HDF5\n",
    "lstm.save(models_dir/\"lstm_improved_model.h5\", save_format=\"h5\")"
   ]
  },
  {
   "cell_type": "markdown",
   "id": "4c6405d1",
   "metadata": {},
   "source": [
    "## 9. Summary & Comparison  \n"
   ]
  },
  {
   "cell_type": "code",
   "execution_count": 43,
   "id": "67de825e",
   "metadata": {},
   "outputs": [
    {
     "data": {
      "text/html": [
       "<style type=\"text/css\">\n",
       "</style>\n",
       "<table id=\"T_85f8e\">\n",
       "  <thead>\n",
       "    <tr>\n",
       "      <th class=\"blank level0\" >&nbsp;</th>\n",
       "      <th id=\"T_85f8e_level0_col0\" class=\"col_heading level0 col0\" >Model</th>\n",
       "      <th id=\"T_85f8e_level0_col1\" class=\"col_heading level0 col1\" >MAE</th>\n",
       "      <th id=\"T_85f8e_level0_col2\" class=\"col_heading level0 col2\" >R²</th>\n",
       "    </tr>\n",
       "  </thead>\n",
       "  <tbody>\n",
       "    <tr>\n",
       "      <th id=\"T_85f8e_level0_row0\" class=\"row_heading level0 row0\" >0</th>\n",
       "      <td id=\"T_85f8e_row0_col0\" class=\"data row0 col0\" >MLP (basic)</td>\n",
       "      <td id=\"T_85f8e_row0_col1\" class=\"data row0 col1\" >0.11887</td>\n",
       "      <td id=\"T_85f8e_row0_col2\" class=\"data row0 col2\" >-234.074</td>\n",
       "    </tr>\n",
       "    <tr>\n",
       "      <th id=\"T_85f8e_level0_row1\" class=\"row_heading level0 row1\" >1</th>\n",
       "      <td id=\"T_85f8e_row1_col0\" class=\"data row1 col0\" >MLP (tuned)</td>\n",
       "      <td id=\"T_85f8e_row1_col1\" class=\"data row1 col1\" >0.00696</td>\n",
       "      <td id=\"T_85f8e_row1_col2\" class=\"data row1 col2\" >0.249</td>\n",
       "    </tr>\n",
       "    <tr>\n",
       "      <th id=\"T_85f8e_level0_row2\" class=\"row_heading level0 row2\" >2</th>\n",
       "      <td id=\"T_85f8e_row2_col0\" class=\"data row2 col0\" >LSTM (basic)</td>\n",
       "      <td id=\"T_85f8e_row2_col1\" class=\"data row2 col1\" >0.01439</td>\n",
       "      <td id=\"T_85f8e_row2_col2\" class=\"data row2 col2\" >-4.157</td>\n",
       "    </tr>\n",
       "    <tr>\n",
       "      <th id=\"T_85f8e_level0_row3\" class=\"row_heading level0 row3\" >3</th>\n",
       "      <td id=\"T_85f8e_row3_col0\" class=\"data row3 col0\" >LSTM (stacked)</td>\n",
       "      <td id=\"T_85f8e_row3_col1\" class=\"data row3 col1\" >0.02823</td>\n",
       "      <td id=\"T_85f8e_row3_col2\" class=\"data row3 col2\" >-7.113</td>\n",
       "    </tr>\n",
       "  </tbody>\n",
       "</table>\n"
      ],
      "text/plain": [
       "<pandas.io.formats.style.Styler at 0x2a30829ff10>"
      ]
     },
     "metadata": {},
     "output_type": "display_data"
    }
   ],
   "source": [
    "import pandas as pd\n",
    "summary3 = pd.DataFrame({\n",
    "    \"Model\": [\"MLP (basic)\", \"MLP (tuned)\", \"LSTM (basic)\", \"LSTM (stacked)\"],\n",
    "    \"MAE\":   [0.11887,         mae_mlp,       0.01439,         mae_lstm],\n",
    "    \"R²\":    [-234.074,        r2_mlp,        -4.157,          r2_lstm]\n",
    "})\n",
    "display(summary3.style.format({\"MAE\":\"{:.5f}\", \"R²\":\"{:.3f}\"}))\n"
   ]
  },
  {
   "cell_type": "markdown",
   "id": "f3a9a263",
   "metadata": {},
   "source": [
    "## 10. Next Steps  \n",
    "1. **Ensemble** final RF+XGB+MLP+LSTM.  \n",
    "2. **Walk‐forward** validation on the ensemble.  \n",
    "3. **Deploy** via Streamlit with live data.  \n",
    "4. **Document** your journey in a final PDF or blog post."
   ]
  }
 ],
 "metadata": {
  "kernelspec": {
   "display_name": "sp500_dl",
   "language": "python",
   "name": "python3"
  },
  "language_info": {
   "codemirror_mode": {
    "name": "ipython",
    "version": 3
   },
   "file_extension": ".py",
   "mimetype": "text/x-python",
   "name": "python",
   "nbconvert_exporter": "python",
   "pygments_lexer": "ipython3",
   "version": "3.10.8"
  }
 },
 "nbformat": 4,
 "nbformat_minor": 5
}
