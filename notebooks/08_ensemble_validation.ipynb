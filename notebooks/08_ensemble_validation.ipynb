{
 "cells": [
  {
   "cell_type": "markdown",
   "id": "08b4a731",
   "metadata": {},
   "source": [
    "# 08_ensemble_validation.ipynb  \n",
    "## Ensemble & Walk-Forward Validation\n",
    "\n",
    "**Objective:**  \n",
    "1. Load our four saved models (tuned RF, XGB, tuned MLP, stacked LSTM).  \n",
    "2. Generate each model’s predictions on the **same** improved feature set.  \n",
    "3. Train a simple **Ridge** meta‐model (stacking) on 80% of the data.  \n",
    "4. Evaluate on the hold‐out 20%.  \n",
    "5. Perform a **walk-forward** validation to ensure robustness.\n"
   ]
  },
  {
   "cell_type": "markdown",
   "id": "7d5ea9dd",
   "metadata": {},
   "source": [
    "## 1. Load Saved Models & Scaler"
   ]
  },
  {
   "cell_type": "code",
   "execution_count": 1,
   "id": "afcc6f68",
   "metadata": {},
   "outputs": [],
   "source": [
    "# 1. Imports & Setup\n",
    "import numpy as np\n",
    "import pandas as pd\n",
    "from pathlib import Path\n",
    "\n",
    "from sklearn.linear_model       import Ridge\n",
    "from sklearn.metrics            import mean_absolute_error, r2_score\n",
    "from sklearn.model_selection    import TimeSeriesSplit\n",
    "import joblib\n",
    "import xgboost                  as xgb\n",
    "from tensorflow.keras.models    import load_model\n",
    "\n",
    "# Paths\n",
    "root       = Path().resolve().parent\n",
    "models_dir = root/\"models\"\n",
    "\n",
    "# Load models\n",
    "rf    = joblib.load(models_dir/\"rf_tuned_model.joblib\")\n",
    "xgb_model = xgb.XGBRegressor()\n",
    "xgb_model.load_model(str(models_dir/\"xgb_model.json\"))\n",
    "mlp   = load_model(models_dir/\"mlp_improved_model\")\n",
    "lstm  = load_model(models_dir/\"lstm_improved_model\")\n",
    "scaler= joblib.load(models_dir/\"scaler.pkl\")\n"
   ]
  },
  {
   "cell_type": "markdown",
   "id": "a40231a5",
   "metadata": {},
   "source": [
    "## 2. Rebuild improved features (same as in Notebooks 06 & 07)"
   ]
  },
  {
   "cell_type": "code",
   "execution_count": 2,
   "id": "82e8e4de",
   "metadata": {},
   "outputs": [
    {
     "name": "stdout",
     "output_type": "stream",
     "text": [
      "Full dataset shape: (1212, 9) (1212,)\n"
     ]
    }
   ],
   "source": [
    "# Rebuild improved features (same as in Notebooks 06 & 07)\n",
    "basic_csv = root/\"data\"/\"processed\"/\"features.csv\"\n",
    "raw_csv   = root/\"data\"/\"raw\"/\"sp500.csv\"\n",
    "\n",
    "df = pd.read_csv(basic_csv, index_col=\"Date\", parse_dates=True)\n",
    "\n",
    "# Lagged returns 1–5\n",
    "for lag in range(1,6):\n",
    "    df[f\"ret_lag_{lag}\"] = df[\"return\"].shift(lag)\n",
    "# 10-day rolling volatility\n",
    "df[\"vol_10\"] = df[\"return\"].rolling(10).std()\n",
    "# Volume % change\n",
    "vol = pd.read_csv(raw_csv, index_col=\"Date\", parse_dates=True)[\"Volume\"]\n",
    "df[\"vol_pct\"] = vol.pct_change()\n",
    "\n",
    "df = df.dropna()\n",
    "feature_cols = [\"rsi\",\"macd\"] + \\\n",
    "               [f\"ret_lag_{i}\" for i in range(1,6)] + \\\n",
    "               [\"vol_10\",\"vol_pct\"]\n",
    "\n",
    "X_all = df[feature_cols].values\n",
    "y_all = df[\"return\"].values\n",
    "\n",
    "print(\"Full dataset shape:\", X_all.shape, y_all.shape)\n",
    "\n"
   ]
  },
  {
   "cell_type": "markdown",
   "id": "184096fa",
   "metadata": {},
   "source": [
    "## 3. Base-Model Predictions\n",
    "We need each model’s predictions on the same feature matrix X_full."
   ]
  },
  {
   "cell_type": "code",
   "execution_count": 3,
   "id": "a4a647df",
   "metadata": {},
   "outputs": [
    {
     "name": "stderr",
     "output_type": "stream",
     "text": [
      "c:\\Users\\Antho\\.conda\\envs\\sp500_dl\\lib\\site-packages\\sklearn\\utils\\validation.py:2739: UserWarning: X does not have valid feature names, but RandomForestRegressor was fitted with feature names\n",
      "  warnings.warn(\n"
     ]
    },
    {
     "name": "stdout",
     "output_type": "stream",
     "text": [
      "38/38 [==============================] - 0s 2ms/step\n",
      "38/38 [==============================] - 1s 6ms/step\n",
      "Stacking matrix shape: (1202, 4) (1202,)\n"
     ]
    }
   ],
   "source": [
    "# 3. Generate base-model predictions on the FULL dataset\n",
    "pred_rf   = rf.predict(X_all)\n",
    "pred_xgb  = xgb_model.predict(X_all)\n",
    "pred_mlp  = mlp.predict(scaler.transform(X_all)).flatten()\n",
    "\n",
    "# Prepare LSTM sequences (t=10) on SCALED features\n",
    "def make_seq(X, t):\n",
    "    xs = []\n",
    "    for i in range(len(X)-t):\n",
    "        xs.append(X[i:i+t])\n",
    "    return np.array(xs)\n",
    "\n",
    "t = 10\n",
    "X_scaled = scaler.transform(X_all)\n",
    "X_seq    = make_seq(X_scaled, t)\n",
    "pred_lstm= lstm.predict(X_seq).flatten()\n",
    "\n",
    "# Align all predictions & true returns to the same index range\n",
    "# LSTM and y_seq both start at index t\n",
    "preds = np.vstack([\n",
    "    pred_rf[t:], \n",
    "    pred_xgb[t:], \n",
    "    pred_mlp[t:], \n",
    "    pred_lstm\n",
    "]).T\n",
    "y_seq = y_all[t:]\n",
    "print(\"Stacking matrix shape:\", preds.shape, y_seq.shape)\n"
   ]
  },
  {
   "cell_type": "markdown",
   "id": "b3899c6d",
   "metadata": {},
   "source": [
    "## 4. Train/Test Hold-out for the meta-model"
   ]
  },
  {
   "cell_type": "code",
   "execution_count": 4,
   "id": "897dc85f",
   "metadata": {},
   "outputs": [
    {
     "name": "stdout",
     "output_type": "stream",
     "text": [
      "Ensemble hold-out → MAE: 0.00751,  R²: 0.095\n"
     ]
    },
    {
     "data": {
      "text/plain": [
       "['C:\\\\Users\\\\Antho\\\\OneDrive\\\\Documentos\\\\Santiago\\\\Finance project\\\\sp500_dl\\\\models\\\\ensemble_model.joblib']"
      ]
     },
     "execution_count": 4,
     "metadata": {},
     "output_type": "execute_result"
    }
   ],
   "source": [
    "# 4. Train/Test Hold-out for the meta-model\n",
    "split = int(len(y_seq)*0.8)\n",
    "S_tr,  S_te  = preds[:split], preds[split:]\n",
    "y_tr,  y_te  = y_seq[:split], y_seq[split:]\n",
    "\n",
    "meta = Ridge()\n",
    "meta.fit(S_tr, y_tr)\n",
    "y_meta = meta.predict(S_te)\n",
    "\n",
    "mae_meta = mean_absolute_error(y_te, y_meta)\n",
    "r2_meta  = r2_score(y_te, y_meta)\n",
    "print(f\"Ensemble hold-out → MAE: {mae_meta:.5f},  R²: {r2_meta:.3f}\")\n",
    "\n",
    "# Save ensemble\n",
    "joblib.dump(meta, models_dir/\"ensemble_model.joblib\")\n"
   ]
  },
  {
   "cell_type": "code",
   "execution_count": 5,
   "id": "91c98d95",
   "metadata": {},
   "outputs": [
    {
     "name": "stdout",
     "output_type": "stream",
     "text": [
      "Walk-forward MAE: 0.007575293057280901 ± 0.002258365075420527\n",
      "Walk-forward R²:  0.09872798984380626 ± 0.044801937695414455\n"
     ]
    }
   ],
   "source": [
    "# 5. Walk-Forward (Rolling-Origin) Validation\n",
    "tscv  = TimeSeriesSplit(n_splits=5)\n",
    "maes, r2s = [], []\n",
    "\n",
    "for train_idx, test_idx in tscv.split(preds):\n",
    "    m = Ridge()\n",
    "    m.fit(preds[train_idx], y_seq[train_idx])\n",
    "    y_pf = m.predict(preds[test_idx])\n",
    "    maes.append(mean_absolute_error(y_seq[test_idx], y_pf))\n",
    "    r2s.append(r2_score(y_seq[test_idx], y_pf))\n",
    "\n",
    "print(\"Walk-forward MAE:\", np.mean(maes), \"±\", np.std(maes))\n",
    "print(\"Walk-forward R²: \", np.mean(r2s),  \"±\", np.std(r2s))\n"
   ]
  },
  {
   "cell_type": "markdown",
   "id": "8f99d15a",
   "metadata": {},
   "source": [
    "## Results\n",
    "\n",
    "- **Hold-out Ensemble MAE:** 0.00751\n",
    "- **Hold-out Ensemble R²:** 0.095 \n",
    "- **Walk-forward MAE:** average 0.00758 ± 0.00226\n",
    "- **Walk-forward R²:** average 0.099 ± 0.045\n",
    "\n",
    "This confirms that our stacked model is stable over time and outperforms each base learner."
   ]
  },
  {
   "cell_type": "markdown",
   "id": "7bd6fd36",
   "metadata": {},
   "source": [
    "## 🗣 Discussion & Next Steps\n",
    "\n",
    "### Discussion of Results  \n",
    "- **MAE ≃ 0.0075 (hold-out) and 0.0076 ± 0.0023 (walk-forward)**  \n",
    "  - Our ensemble’s average daily-return error is under **0.8%**, which is strong for noisy financial data.  \n",
    "  - The low standard deviation in the walk-forward MAE shows that this performance is **stable over time**.\n",
    "\n",
    "- **R² ≃ 0.095 (hold-out) and 0.099 ± 0.045 (walk-forward)**  \n",
    "  - We explain about **10%** of the day-to-day variance.  \n",
    "  - In practice, daily-return models rarely exceed **15–20% R²** without inside information—so our results are in line with industry benchmarks.\n",
    "\n",
    "- **Error vs. Variance**  \n",
    "  - While the MAE is low (we’re precise on average), the modest R² means large spikes still elude us.  \n",
    "  - This gap is expected: markets are driven by unpredictable events, so perfectly anticipating extreme moves is unlikely.\n",
    "\n",
    "### Key Takeaways  \n",
    "1. **Ensembling** diversified our errors across four models (RF, XGB, MLP, LSTM) and gave the best hold-out MAE.  \n",
    "2. **Walk-forward validation** confirms that our stacking method doesn’t overfit a single train/test split.  \n",
    "3. **Feature engineering** (lags, volatility, volume) was critical—adding macro or sentiment features is the next frontier.\n",
    "\n",
    "### Next Steps  \n",
    "1. **Enrich the feature set**  \n",
    "   - Incorporate macro series (VIX, interest rates), sector flows, social-media sentiment.  \n",
    "2. **Broaden model diversity**  \n",
    "   - Add a 1D-CNN, Transformer-based time-series model, or even a simple econometric panel model.  \n",
    "3. **Tail-focused loss functions**  \n",
    "   - Experiment with **Huber**, **Quantile**, or **Expectile** losses to better capture extreme moves.  \n",
    "4. **Risk-adjusted backtests**  \n",
    "   - Translate return forecasts into position sizes, simulate P&L, and optimize a Sharpe-ratio objective.  \n",
    "5. **Deployment & Monitoring**  \n",
    "   - Package this ensemble into a **Streamlit** (or FastAPI) app, schedule daily forecasts, and log performance metrics over time.\n"
   ]
  },
  {
   "cell_type": "markdown",
   "id": "39f19f65",
   "metadata": {},
   "source": []
  }
 ],
 "metadata": {
  "kernelspec": {
   "display_name": "sp500_dl",
   "language": "python",
   "name": "python3"
  },
  "language_info": {
   "codemirror_mode": {
    "name": "ipython",
    "version": 3
   },
   "file_extension": ".py",
   "mimetype": "text/x-python",
   "name": "python",
   "nbconvert_exporter": "python",
   "pygments_lexer": "ipython3",
   "version": "3.10.8"
  }
 },
 "nbformat": 4,
 "nbformat_minor": 5
}
