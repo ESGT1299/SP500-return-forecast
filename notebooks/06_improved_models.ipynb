{
 "cells": [
  {
   "cell_type": "markdown",
   "id": "3429a58b",
   "metadata": {},
   "source": [
    "# 🚀 06_improved_models.ipynb  \n",
    "## Building on Our Baseline: Smarter Features & Hyper-Tuned Models\n",
    "\n",
    "We keep all our original notebooks (01–05) intact so you can show your **first attempts**.  \n",
    "Now in this **sixth** notebook, we will:\n",
    "\n",
    "1. Load the existing **raw** and **basic** feature CSVs  \n",
    "2. Engineer a **richer** feature set  \n",
    "3. **Scale** for neural nets  \n",
    "4. **Hyper-tune** RandomForest  \n",
    "5. Train **XGBoost**  \n",
    "6. Compare the **new** models against the **old** RandomForest baseline  \n",
    "\n",
    "> _Think of it as training wheels off: we learned from our first ride, now we upgrade the bike!_\n"
   ]
  },
  {
   "cell_type": "markdown",
   "id": "e51b249c",
   "metadata": {},
   "source": [
    "## 1. Setup & Imports  "
   ]
  },
  {
   "cell_type": "code",
   "execution_count": 2,
   "id": "310a0ebd",
   "metadata": {},
   "outputs": [],
   "source": [
    "# 1. Setup & Imports\n",
    "import numpy as np\n",
    "import pandas as pd\n",
    "import matplotlib.pyplot as plt\n",
    "from pathlib import Path\n",
    "\n",
    "from sklearn.model_selection      import TimeSeriesSplit, GridSearchCV\n",
    "from sklearn.preprocessing        import StandardScaler\n",
    "from sklearn.ensemble             import RandomForestRegressor\n",
    "from sklearn.metrics              import mean_absolute_error, r2_score\n",
    "\n",
    "import xgboost as xgb\n",
    "\n"
   ]
  },
  {
   "cell_type": "markdown",
   "id": "db38af26",
   "metadata": {},
   "source": [
    "## 2. Define Paths & Load Data  \n",
    "We already have:\n",
    "- **Raw prices** in `data/raw/sp500.csv`  \n",
    "- **Basic features** in `data/processed/features.csv`  "
   ]
  },
  {
   "cell_type": "code",
   "execution_count": 15,
   "id": "5d8b8e5a",
   "metadata": {},
   "outputs": [
    {
     "name": "stdout",
     "output_type": "stream",
     "text": [
      "Raw: (1254, 5) Basic feats: (1221, 8)\n"
     ]
    }
   ],
   "source": [
    "# 2. Paths & Loading\n",
    "nb_dir = Path().resolve()             \n",
    "root   = nb_dir.parent  \n",
    "raw_csv      = root/\"data\"/\"raw\"/\"sp500.csv\"\n",
    "basic_csv    = root/\"data\"/\"processed\"/\"features.csv\"\n",
    "\n",
    "# Create models folder if not exists\n",
    "models_dir= root/\"models\"\n",
    "models_dir.mkdir(exist_ok=True)\n",
    "\n",
    "# Load them\n",
    "df_raw   = pd.read_csv(raw_csv,   index_col=\"Date\", parse_dates=True)\n",
    "df_basic = pd.read_csv(basic_csv, index_col=\"Date\", parse_dates=True)\n",
    "\n",
    "print(\"Raw:\",   df_raw.shape,   \"Basic feats:\", df_basic.shape)\n"
   ]
  },
  {
   "cell_type": "markdown",
   "id": "6d603b40",
   "metadata": {},
   "source": [
    "## 3. Advanced Feature Engineering  \n",
    "1. Lagged returns (1–5 days)  \n",
    "2. 10-day rolling volatility  \n",
    "3. Volume % change  \n",
    "4. Drop NaNs\n"
   ]
  },
  {
   "cell_type": "code",
   "execution_count": 5,
   "id": "65b30b04",
   "metadata": {},
   "outputs": [
    {
     "data": {
      "text/html": [
       "<div>\n",
       "<style scoped>\n",
       "    .dataframe tbody tr th:only-of-type {\n",
       "        vertical-align: middle;\n",
       "    }\n",
       "\n",
       "    .dataframe tbody tr th {\n",
       "        vertical-align: top;\n",
       "    }\n",
       "\n",
       "    .dataframe thead th {\n",
       "        text-align: right;\n",
       "    }\n",
       "</style>\n",
       "<table border=\"1\" class=\"dataframe\">\n",
       "  <thead>\n",
       "    <tr style=\"text-align: right;\">\n",
       "      <th></th>\n",
       "      <th>Open</th>\n",
       "      <th>High</th>\n",
       "      <th>Low</th>\n",
       "      <th>Close</th>\n",
       "      <th>Volume</th>\n",
       "      <th>return</th>\n",
       "      <th>rsi</th>\n",
       "      <th>macd</th>\n",
       "      <th>ret_lag_1</th>\n",
       "      <th>ret_lag_2</th>\n",
       "      <th>ret_lag_3</th>\n",
       "      <th>ret_lag_4</th>\n",
       "      <th>ret_lag_5</th>\n",
       "      <th>vol_10</th>\n",
       "      <th>vol_pct</th>\n",
       "    </tr>\n",
       "    <tr>\n",
       "      <th>Date</th>\n",
       "      <th></th>\n",
       "      <th></th>\n",
       "      <th></th>\n",
       "      <th></th>\n",
       "      <th></th>\n",
       "      <th></th>\n",
       "      <th></th>\n",
       "      <th></th>\n",
       "      <th></th>\n",
       "      <th></th>\n",
       "      <th></th>\n",
       "      <th></th>\n",
       "      <th></th>\n",
       "      <th></th>\n",
       "      <th></th>\n",
       "    </tr>\n",
       "  </thead>\n",
       "  <tbody>\n",
       "    <tr>\n",
       "      <th>2020-07-24</th>\n",
       "      <td>3218.58</td>\n",
       "      <td>3227.26</td>\n",
       "      <td>3200.05</td>\n",
       "      <td>3215.63</td>\n",
       "      <td>2.460505e+09</td>\n",
       "      <td>-0.006210</td>\n",
       "      <td>56.181238</td>\n",
       "      <td>3.240325</td>\n",
       "      <td>-0.012396</td>\n",
       "      <td>0.005731</td>\n",
       "      <td>0.001678</td>\n",
       "      <td>0.008372</td>\n",
       "      <td>0.002845</td>\n",
       "      <td>0.008538</td>\n",
       "      <td>-0.102679</td>\n",
       "    </tr>\n",
       "    <tr>\n",
       "      <th>2020-07-27</th>\n",
       "      <td>3219.84</td>\n",
       "      <td>3241.43</td>\n",
       "      <td>3214.25</td>\n",
       "      <td>3239.41</td>\n",
       "      <td>2.355871e+09</td>\n",
       "      <td>0.007368</td>\n",
       "      <td>58.949535</td>\n",
       "      <td>1.761863</td>\n",
       "      <td>-0.006210</td>\n",
       "      <td>-0.012396</td>\n",
       "      <td>0.005731</td>\n",
       "      <td>0.001678</td>\n",
       "      <td>0.008372</td>\n",
       "      <td>0.007900</td>\n",
       "      <td>-0.042525</td>\n",
       "    </tr>\n",
       "    <tr>\n",
       "      <th>2020-07-28</th>\n",
       "      <td>3234.27</td>\n",
       "      <td>3243.72</td>\n",
       "      <td>3216.17</td>\n",
       "      <td>3218.44</td>\n",
       "      <td>2.244363e+09</td>\n",
       "      <td>-0.006494</td>\n",
       "      <td>55.612967</td>\n",
       "      <td>-0.938636</td>\n",
       "      <td>0.007368</td>\n",
       "      <td>-0.006210</td>\n",
       "      <td>-0.012396</td>\n",
       "      <td>0.005731</td>\n",
       "      <td>0.001678</td>\n",
       "      <td>0.007391</td>\n",
       "      <td>-0.047332</td>\n",
       "    </tr>\n",
       "    <tr>\n",
       "      <th>2020-07-29</th>\n",
       "      <td>3227.22</td>\n",
       "      <td>3264.74</td>\n",
       "      <td>3227.22</td>\n",
       "      <td>3258.44</td>\n",
       "      <td>2.471114e+09</td>\n",
       "      <td>0.012352</td>\n",
       "      <td>60.236275</td>\n",
       "      <td>-0.370417</td>\n",
       "      <td>-0.006494</td>\n",
       "      <td>0.007368</td>\n",
       "      <td>-0.006210</td>\n",
       "      <td>-0.012396</td>\n",
       "      <td>0.005731</td>\n",
       "      <td>0.007867</td>\n",
       "      <td>0.101031</td>\n",
       "    </tr>\n",
       "    <tr>\n",
       "      <th>2020-07-30</th>\n",
       "      <td>3231.76</td>\n",
       "      <td>3250.92</td>\n",
       "      <td>3204.13</td>\n",
       "      <td>3246.22</td>\n",
       "      <td>2.436861e+09</td>\n",
       "      <td>-0.003757</td>\n",
       "      <td>58.240473</td>\n",
       "      <td>-1.114930</td>\n",
       "      <td>0.012352</td>\n",
       "      <td>-0.006494</td>\n",
       "      <td>0.007368</td>\n",
       "      <td>-0.006210</td>\n",
       "      <td>-0.012396</td>\n",
       "      <td>0.007890</td>\n",
       "      <td>-0.013861</td>\n",
       "    </tr>\n",
       "  </tbody>\n",
       "</table>\n",
       "</div>"
      ],
      "text/plain": [
       "               Open     High      Low    Close        Volume    return  \\\n",
       "Date                                                                     \n",
       "2020-07-24  3218.58  3227.26  3200.05  3215.63  2.460505e+09 -0.006210   \n",
       "2020-07-27  3219.84  3241.43  3214.25  3239.41  2.355871e+09  0.007368   \n",
       "2020-07-28  3234.27  3243.72  3216.17  3218.44  2.244363e+09 -0.006494   \n",
       "2020-07-29  3227.22  3264.74  3227.22  3258.44  2.471114e+09  0.012352   \n",
       "2020-07-30  3231.76  3250.92  3204.13  3246.22  2.436861e+09 -0.003757   \n",
       "\n",
       "                  rsi      macd  ret_lag_1  ret_lag_2  ret_lag_3  ret_lag_4  \\\n",
       "Date                                                                          \n",
       "2020-07-24  56.181238  3.240325  -0.012396   0.005731   0.001678   0.008372   \n",
       "2020-07-27  58.949535  1.761863  -0.006210  -0.012396   0.005731   0.001678   \n",
       "2020-07-28  55.612967 -0.938636   0.007368  -0.006210  -0.012396   0.005731   \n",
       "2020-07-29  60.236275 -0.370417  -0.006494   0.007368  -0.006210  -0.012396   \n",
       "2020-07-30  58.240473 -1.114930   0.012352  -0.006494   0.007368  -0.006210   \n",
       "\n",
       "            ret_lag_5    vol_10   vol_pct  \n",
       "Date                                       \n",
       "2020-07-24   0.002845  0.008538 -0.102679  \n",
       "2020-07-27   0.008372  0.007900 -0.042525  \n",
       "2020-07-28   0.001678  0.007391 -0.047332  \n",
       "2020-07-29   0.005731  0.007867  0.101031  \n",
       "2020-07-30  -0.012396  0.007890 -0.013861  "
      ]
     },
     "execution_count": 5,
     "metadata": {},
     "output_type": "execute_result"
    }
   ],
   "source": [
    "# 3. Advanced Features\n",
    "df = df_basic.copy()\n",
    "\n",
    "# 3.1 Lagged returns\n",
    "for lag in range(1,6):\n",
    "    df[f\"ret_lag_{lag}\"] = df[\"return\"].shift(lag)\n",
    "\n",
    "# 3.2 Rolling volatility (10d)\n",
    "df[\"vol_10\"] = df[\"return\"].rolling(10).std()\n",
    "\n",
    "# 3.3 Volume % change\n",
    "df[\"vol_pct\"] = df_raw[\"Volume\"].pct_change()\n",
    "\n",
    "# Drop everything with NaNs\n",
    "df = df.dropna()\n",
    "\n",
    "# Quick peek\n",
    "df.head()\n"
   ]
  },
  {
   "cell_type": "markdown",
   "id": "e49831a6",
   "metadata": {},
   "source": [
    "## 4. Train/Test Split  \n",
    "Chronological 80/20 split, **no shuffling**!"
   ]
  },
  {
   "cell_type": "code",
   "execution_count": 6,
   "id": "62f3cab7",
   "metadata": {},
   "outputs": [
    {
     "name": "stdout",
     "output_type": "stream",
     "text": [
      "Train: (969, 9) Test: (243, 9)\n"
     ]
    }
   ],
   "source": [
    "# 4. Split\n",
    "X = df.drop(columns=[\"return\",\"Open\",\"High\",\"Low\",\"Close\",\"Volume\"])\n",
    "y = df[\"return\"]\n",
    "\n",
    "split = int(len(X)*0.8)\n",
    "X_train, X_test = X.iloc[:split], X.iloc[split:]\n",
    "y_train, y_test = y.iloc[:split], y.iloc[split:]\n",
    "\n",
    "print(\"Train:\", X_train.shape, \"Test:\", X_test.shape)\n"
   ]
  },
  {
   "cell_type": "markdown",
   "id": "3bc79d22",
   "metadata": {},
   "source": [
    "## 5. Hyper-tune RandomForest  \n",
    "We search over `n_estimators`, `max_depth`, and `min_samples_leaf`.\n"
   ]
  },
  {
   "cell_type": "code",
   "execution_count": 19,
   "id": "e41a0990",
   "metadata": {},
   "outputs": [
    {
     "name": "stdout",
     "output_type": "stream",
     "text": [
      "Best RF params: {'max_depth': 10, 'min_samples_leaf': 5, 'n_estimators': 200}\n",
      "Tuned RF → MAE: 0.00652,  R²: 0.327\n"
     ]
    },
    {
     "data": {
      "text/plain": [
       "['C:\\\\Users\\\\Antho\\\\OneDrive\\\\Documentos\\\\Santiago\\\\Finance project\\\\sp500_dl\\\\models\\\\rf_tuned_model.joblib']"
      ]
     },
     "execution_count": 19,
     "metadata": {},
     "output_type": "execute_result"
    }
   ],
   "source": [
    "# 5. RF Hyper-Tuning\n",
    "param_grid = {\n",
    "    \"n_estimators\":   [100, 200],\n",
    "    \"max_depth\":      [None, 10, 20],\n",
    "    \"min_samples_leaf\":[1, 2, 5]\n",
    "}\n",
    "tscv = TimeSeriesSplit(n_splits=3)\n",
    "grid = GridSearchCV(\n",
    "    RandomForestRegressor(random_state=0),\n",
    "    param_grid,\n",
    "    cv=tscv,\n",
    "    scoring=\"neg_mean_absolute_error\",\n",
    "    n_jobs=-1\n",
    ")\n",
    "grid.fit(X_train, y_train)\n",
    "best_rf = grid.best_estimator_\n",
    "\n",
    "print(\"Best RF params:\", grid.best_params_)\n",
    "y_rf    = best_rf.predict(X_test)\n",
    "mae_rf, r2_rf = mean_absolute_error(y_test, y_rf), r2_score(y_test, y_rf)\n",
    "print(f\"Tuned RF → MAE: {mae_rf:.5f},  R²: {r2_rf:.3f}\")\n",
    "\n",
    "import joblib\n",
    "joblib.dump(best_rf, models_dir/\"rf_tuned_model.joblib\")\n"
   ]
  },
  {
   "cell_type": "markdown",
   "id": "3b170396",
   "metadata": {},
   "source": [
    "## 6. Train & Evaluate XGBoost  \n",
    "A powerful gradient‐boosted tree model."
   ]
  },
  {
   "cell_type": "code",
   "execution_count": null,
   "id": "9a2aacba",
   "metadata": {},
   "outputs": [
    {
     "name": "stdout",
     "output_type": "stream",
     "text": [
      "XGBoost → MAE: 0.00638,  R²: 0.393\n"
     ]
    },
    {
     "data": {
      "text/plain": [
       "['C:\\\\Users\\\\Antho\\\\OneDrive\\\\Documentos\\\\Santiago\\\\Finance project\\\\sp500_dl\\\\models\\\\xgb_model.joblib']"
      ]
     },
     "execution_count": 18,
     "metadata": {},
     "output_type": "execute_result"
    }
   ],
   "source": [
    "# 6. XGBoost\n",
    "dtrain = xgb.DMatrix(X_train, label=y_train)\n",
    "dtest  = xgb.DMatrix(X_test,  label=y_test)\n",
    "\n",
    "params  = {\"objective\":\"reg:squarederror\", \"learning_rate\":0.1,\n",
    "           \"max_depth\":5, \"subsample\":0.8}\n",
    "xgb_model = xgb.train(params, dtrain, num_boost_round=100)\n",
    "\n",
    "y_xgb   = xgb_model.predict(dtest)\n",
    "mae_xgb, r2_xgb = mean_absolute_error(y_test, y_xgb), r2_score(y_test, y_xgb)\n",
    "print(f\"XGBoost → MAE: {mae_xgb:.5f},  R²: {r2_xgb:.3f}\")\n",
    "\n",
    "# Save XGBoost\n",
    "joblib.dump(xgb_model, models_dir/\"xgb_model.joblib\")\n",
    "# (or use joblib: xgb_model.save_model(str(models_dir/\"xgb_model.json\")))"
   ]
  },
  {
   "cell_type": "markdown",
   "id": "b48ab9d2",
   "metadata": {},
   "source": [
    "## 7. Compare Improved Models  \n",
    "Show the **new tuned RF** and **XGBoost** vs. the **original RF**.\n"
   ]
  },
  {
   "cell_type": "code",
   "execution_count": 12,
   "id": "dc60d4d6",
   "metadata": {},
   "outputs": [
    {
     "data": {
      "text/html": [
       "<style type=\"text/css\">\n",
       "</style>\n",
       "<table id=\"T_eb047\">\n",
       "  <caption>📊 Improved Models vs Original RF</caption>\n",
       "  <thead>\n",
       "    <tr>\n",
       "      <th id=\"T_eb047_level0_col0\" class=\"col_heading level0 col0\" >Model</th>\n",
       "      <th id=\"T_eb047_level0_col1\" class=\"col_heading level0 col1\" >MAE</th>\n",
       "      <th id=\"T_eb047_level0_col2\" class=\"col_heading level0 col2\" >R²</th>\n",
       "    </tr>\n",
       "  </thead>\n",
       "  <tbody>\n",
       "    <tr>\n",
       "      <td id=\"T_eb047_row0_col0\" class=\"data row0 col0\" >RF (orig)</td>\n",
       "      <td id=\"T_eb047_row0_col1\" class=\"data row0 col1\" >0.00785</td>\n",
       "      <td id=\"T_eb047_row0_col2\" class=\"data row0 col2\" >0.128</td>\n",
       "    </tr>\n",
       "    <tr>\n",
       "      <td id=\"T_eb047_row1_col0\" class=\"data row1 col0\" >RF (tuned)</td>\n",
       "      <td id=\"T_eb047_row1_col1\" class=\"data row1 col1\" >0.00652</td>\n",
       "      <td id=\"T_eb047_row1_col2\" class=\"data row1 col2\" >0.327</td>\n",
       "    </tr>\n",
       "    <tr>\n",
       "      <td id=\"T_eb047_row2_col0\" class=\"data row2 col0\" >XGBoost</td>\n",
       "      <td id=\"T_eb047_row2_col1\" class=\"data row2 col1\" >0.00638</td>\n",
       "      <td id=\"T_eb047_row2_col2\" class=\"data row2 col2\" >0.393</td>\n",
       "    </tr>\n",
       "  </tbody>\n",
       "</table>\n"
      ],
      "text/plain": [
       "<pandas.io.formats.style.Styler at 0x225973cb370>"
      ]
     },
     "metadata": {},
     "output_type": "display_data"
    }
   ],
   "source": [
    "# 7. Summary Table\n",
    "summary2 = pd.DataFrame({\n",
    "    \"Model\":     [\"RF (orig)\", \"RF (tuned)\", \"XGBoost\"],\n",
    "    \"MAE\":       [0.00785,     mae_rf,      mae_xgb],\n",
    "    \"R²\":        [0.128,       r2_rf,       r2_xgb]\n",
    "})\n",
    "display(\n",
    "    summary2.style\n",
    "            .hide(axis=\"index\")\n",
    "            .format({\"MAE\":\"{:.5f}\", \"R²\":\"{:.3f}\"})\n",
    "            .set_caption(\"📊 Improved Models vs Original RF\")\n",
    ")\n"
   ]
  },
  {
   "cell_type": "markdown",
   "id": "41098381",
   "metadata": {},
   "source": [
    "## 8. Plot Predictions  \n",
    "Visualize **true returns** vs **tuned RF** and **XGBoost**.\n"
   ]
  },
  {
   "cell_type": "code",
   "execution_count": 13,
   "id": "4b3b5613",
   "metadata": {},
   "outputs": [
    {
     "data": {
      "image/png": "[encoded data removed]",
      "text/plain": [
       "<Figure size 1000x400 with 1 Axes>"
      ]
     },
     "metadata": {},
     "output_type": "display_data"
    }
   ],
   "source": [
    "# 8. Plotting\n",
    "plt.figure(figsize=(10,4))\n",
    "plt.plot(y_test.values,           label=\"True\",       color=\"black\")\n",
    "plt.plot(y_rf,                   \"--\", label=\"RF (tuned)\", color=\"C0\")\n",
    "plt.plot(y_xgb,                  \"-.\", label=\"XGBoost\",    color=\"C1\")\n",
    "plt.title(\"Improved Models vs True Returns\")\n",
    "plt.xlabel(\"Test Sample Index\")\n",
    "plt.ylabel(\"Log Return\")\n",
    "plt.legend()\n",
    "plt.tight_layout()\n",
    "plt.show()\n"
   ]
  },
  {
   "cell_type": "markdown",
   "id": "d47e59ec",
   "metadata": {},
   "source": [
    "## 9. Takeaways & Next Steps  \n",
    "- **Tuned RF** improved MAE from 0.00785 → *0.00652*, R² from 0.128 → *0.327*.  \n",
    "- **XGBoost** achieved MAE *0.00638*, R² *0.393*.  \n",
    "- **Next:**  \n",
    "  1. Stack RF+XGB ensemble  \n",
    "  2. Add **macro features** (VIX, interest rates)  \n",
    "  3. Explore **deep LSTM** on these improved features  \n",
    "  4. Deploy as a **streamlit** app for live forecasting  "
   ]
  }
 ],
 "metadata": {
  "kernelspec": {
   "display_name": "sp500_dl",
   "language": "python",
   "name": "python3"
  },
  "language_info": {
   "codemirror_mode": {
    "name": "ipython",
    "version": 3
   },
   "file_extension": ".py",
   "mimetype": "text/x-python",
   "name": "python",
   "nbconvert_exporter": "python",
   "pygments_lexer": "ipython3",
   "version": "3.10.8"
  }
 },
 "nbformat": 4,
 "nbformat_minor": 5
}
